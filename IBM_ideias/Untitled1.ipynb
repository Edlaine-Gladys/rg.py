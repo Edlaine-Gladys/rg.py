{
 "cells": [
  {
   "cell_type": "markdown",
   "metadata": {},
   "source": [
    "## Dicas para os lugares escolhidos "
   ]
  },
  {
   "cell_type": "code",
   "execution_count": 10,
   "metadata": {},
   "outputs": [],
   "source": [
    "import pandas as pd\n",
    "import requests "
   ]
  },
  {
   "cell_type": "code",
   "execution_count": 2,
   "metadata": {},
   "outputs": [
    {
     "name": "stdout",
     "output_type": "stream",
     "text": [
      "Your credentails:\n",
      "CLIENT_ID: P5MNEPLK4OXEDGPBP45SWSLTU1TY4R1DU4ZGMFBBOZCP23MO\n",
      "CLIENT_SECRET:3UTVUFOEVCRFZU5RGBMOSR4AFQG4BB4XXVN0P1NQMQNEFK2H\n"
     ]
    }
   ],
   "source": [
    "CLIENT_ID = 'P5MNEPLK4OXEDGPBP45SWSLTU1TY4R1DU4ZGMFBBOZCP23MO' # your Foursquare ID\n",
    "CLIENT_SECRET = '3UTVUFOEVCRFZU5RGBMOSR4AFQG4BB4XXVN0P1NQMQNEFK2H' # your Foursquare Secret\n",
    "ACCESS_TOKEN = \"L5FWYDVVHZXJ4GKNOAD45X22X5MVYZJIFJHE1YJXFGDFB4YN\" # your FourSquare Access Token\n",
    "VERSION = '20180604'\n",
    "print('Your credentails:')\n",
    "print('CLIENT_ID: ' + CLIENT_ID)\n",
    "print('CLIENT_SECRET:' + CLIENT_SECRET)"
   ]
  },
  {
   "cell_type": "markdown",
   "metadata": {},
   "source": [
    "# Para categorias "
   ]
  },
  {
   "cell_type": "code",
   "execution_count": 11,
   "metadata": {},
   "outputs": [],
   "source": [
    "venue_id = '4f2064f8e4b0a00cf1d3c3c1' # ID 'name': 'DryBar'\n",
    "\n",
    "url= 'https://api.foursquare.com/v2/venues/{}?client_id={}&client_secret={}&oauth_token={}&v={}'.format(\n",
    "    venue_id, CLIENT_ID, CLIENT_SECRET,ACCESS_TOKEN, VERSION)\n",
    "\n",
    "results_1 = requests.get(url).json()"
   ]
  },
  {
   "cell_type": "code",
   "execution_count": null,
   "metadata": {},
   "outputs": [],
   "source": [
    "tips = results_tip['response']['tips']['items']\n",
    "\n",
    "tips = results_tip['response']['tips']['items'][0]\n",
    "tips.keys()"
   ]
  },
  {
   "cell_type": "code",
   "execution_count": 24,
   "metadata": {},
   "outputs": [
    {
     "data": {
      "text/plain": [
       "{'count': 22,\n",
       " 'groups': [{'type': 'following',\n",
       "   'name': 'Tips from people you follow',\n",
       "   'count': 0,\n",
       "   'items': []},\n",
       "  {'type': 'others',\n",
       "   'name': 'All tips',\n",
       "   'count': 22,\n",
       "   'items': [{'id': '4f50c58ee4b041b23c2a05c5',\n",
       "     'createdAt': 1330693518,\n",
       "     'text': 'The only place where mixing a Manhattan and a Mai Tai makes perfect sense.',\n",
       "     'type': 'user',\n",
       "     'canonicalUrl': 'https://foursquare.com/item/4f50c58ee4b041b23c2a05c5',\n",
       "     'likes': {'count': 9,\n",
       "      'groups': [{'type': 'others',\n",
       "        'count': 9,\n",
       "        'items': [{'id': '88383826',\n",
       "          'firstName': 'Kristen',\n",
       "          'lastName': 'Moreno',\n",
       "          'gender': 'female',\n",
       "          'countryCode': 'GB',\n",
       "          'photo': {'prefix': 'https://fastly.4sqi.net/img/user/',\n",
       "           'suffix': '/88383826-CFPYHQTMVYWWAELH'}},\n",
       "         {'id': '81145766',\n",
       "          'firstName': 'Muhammet',\n",
       "          'lastName': 'Karaoglu',\n",
       "          'gender': 'male',\n",
       "          'countryCode': 'TR',\n",
       "          'photo': {'prefix': 'https://fastly.4sqi.net/img/user/',\n",
       "           'suffix': '/blank_boy.png',\n",
       "           'default': True}},\n",
       "         {'id': '79808',\n",
       "          'firstName': 'Kristin',\n",
       "          'lastName': 'Booker',\n",
       "          'gender': 'female',\n",
       "          'countryCode': 'US',\n",
       "          'photo': {'prefix': 'https://fastly.4sqi.net/img/user/',\n",
       "           'suffix': '/79808_ilJhv4rA_f-6fkuyoO-8T5nq52HEdFpBSNVNAbBzZzcL7nMAMvsjPIEUqm3pVHUuSD-W3FMLn.jpg'}}]}],\n",
       "      'summary': '9 likes'},\n",
       "     'like': False,\n",
       "     'logView': True,\n",
       "     'agreeCount': 9,\n",
       "     'disagreeCount': 0,\n",
       "     'todo': {'count': 1},\n",
       "     'user': {'id': '43120',\n",
       "      'firstName': 'Dina',\n",
       "      'lastName': 'Fierro',\n",
       "      'gender': 'female',\n",
       "      'countryCode': 'US',\n",
       "      'photo': {'prefix': 'https://fastly.4sqi.net/img/user/',\n",
       "       'suffix': '/43120-T5HE1P4VYTJDU1IS.jpg'}}}]}]}"
      ]
     },
     "execution_count": 24,
     "metadata": {},
     "output_type": "execute_result"
    }
   ],
   "source": [
    "results_1[\"response\"][\"venue\"]['tips']"
   ]
  },
  {
   "cell_type": "code",
   "execution_count": 12,
   "metadata": {},
   "outputs": [
    {
     "ename": "KeyError",
     "evalue": "'venues'",
     "output_type": "error",
     "traceback": [
      "\u001b[1;31m---------------------------------------------------------------------------\u001b[0m",
      "\u001b[1;31mKeyError\u001b[0m                                  Traceback (most recent call last)",
      "\u001b[1;32m<ipython-input-12-a1cd9121b1f4>\u001b[0m in \u001b[0;36m<module>\u001b[1;34m\u001b[0m\n\u001b[1;32m----> 1\u001b[1;33m \u001b[0mprint\u001b[0m\u001b[1;33m(\u001b[0m \u001b[1;34m\"The fist Drybar is:\"\u001b[0m\u001b[1;33m,\u001b[0m \u001b[0mresults_1\u001b[0m\u001b[1;33m[\u001b[0m\u001b[1;34m\"response\"\u001b[0m\u001b[1;33m]\u001b[0m\u001b[1;33m[\u001b[0m\u001b[1;34m\"venues\"\u001b[0m\u001b[1;33m]\u001b[0m\u001b[1;33m[\u001b[0m\u001b[1;36m0\u001b[0m\u001b[1;33m]\u001b[0m\u001b[1;33m[\u001b[0m\u001b[1;34m'id'\u001b[0m\u001b[1;33m]\u001b[0m\u001b[1;33m)\u001b[0m\u001b[1;33m\u001b[0m\u001b[1;33m\u001b[0m\u001b[0m\n\u001b[0m",
      "\u001b[1;31mKeyError\u001b[0m: 'venues'"
     ]
    }
   ],
   "source": [
    "print( \"The fist Drybar is:\", results_1[\"response\"][\"venues\"][0]['id'])"
   ]
  },
  {
   "cell_type": "code",
   "execution_count": null,
   "metadata": {},
   "outputs": [],
   "source": [
    "limit = 15 # set limit to be greater than or equal to the total number of tips\n",
    "url = 'https://api.foursquare.com/v2/venues/{}/tips?client_id={}&client_secret={}&oauth_token={}&v={}&limit={}'.format(venue_id, CLIENT_ID, CLIENT_SECRET,ACCESS_TOKEN, VERSION, limit)\n",
    "\n",
    "results_tip = requests.get(url).json()\n",
    "results_tip"
   ]
  },
  {
   "cell_type": "code",
   "execution_count": null,
   "metadata": {},
   "outputs": [],
   "source": [
    "tips = results_tip['response']['tips']['items']\n",
    "\n",
    "tips = results_tip['response']['tips']['items'][0]\n",
    "tips.keys()\n"
   ]
  },
  {
   "cell_type": "code",
   "execution_count": null,
   "metadata": {},
   "outputs": [],
   "source": [
    "user_id='14845879'\n",
    "url = 'https://api.foursquare.com/v2/users/{}/tips?client_id={}&client_secret={}&oauth_token={}&v={}&limit={}'.format(user_id, CLIENT_ID, CLIENT_SECRET,ACCESS_TOKEN,VERSION, limit)\n",
    "\n",
    "# send GET request and get user's tips\n",
    "results = requests.get(url).json()\n",
    "tips = results['response']['tips']['items']\n",
    "\n",
    "# format column width\n",
    "pd.set_option('display.max_colwidth', -1)\n",
    "\n",
    "tips_df = json_normalize(tips)\n",
    "\n",
    "# filter columns\n",
    "filtered_columns = ['text', 'agreeCount', 'disagreeCount', 'id']\n",
    "tips_filtered = tips_df.loc[:, filtered_columns]\n",
    "\n",
    "# display user's tips\n",
    "tips_filtered"
   ]
  },
  {
   "cell_type": "code",
   "execution_count": null,
   "metadata": {},
   "outputs": [],
   "source": []
  },
  {
   "cell_type": "code",
   "execution_count": null,
   "metadata": {},
   "outputs": [],
   "source": []
  },
  {
   "cell_type": "code",
   "execution_count": null,
   "metadata": {},
   "outputs": [],
   "source": []
  },
  {
   "cell_type": "code",
   "execution_count": null,
   "metadata": {},
   "outputs": [],
   "source": []
  }
 ],
 "metadata": {
  "kernelspec": {
   "display_name": "Python 3",
   "language": "python",
   "name": "python3"
  },
  "language_info": {
   "codemirror_mode": {
    "name": "ipython",
    "version": 3
   },
   "file_extension": ".py",
   "mimetype": "text/x-python",
   "name": "python",
   "nbconvert_exporter": "python",
   "pygments_lexer": "ipython3",
   "version": "3.8.5"
  }
 },
 "nbformat": 4,
 "nbformat_minor": 4
}
