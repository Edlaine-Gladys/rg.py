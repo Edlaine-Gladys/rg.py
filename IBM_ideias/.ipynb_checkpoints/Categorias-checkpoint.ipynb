{
 "cells": [
  {
   "cell_type": "markdown",
   "metadata": {},
   "source": [
    "# Categorias"
   ]
  },
  {
   "cell_type": "code",
   "execution_count": 2,
   "metadata": {},
   "outputs": [],
   "source": [
    "import numpy as np # library to handle data in a vectorized manner\n",
    "\n",
    "import pandas as pd # library for data analsysis\n",
    "pd.set_option('display.max_columns', None)\n",
    "pd.set_option('display.max_rows', None)\n",
    "\n",
    "import json # library to handle JSON files\n",
    "from pprint import pprint # data pretty printer\n",
    "\n",
    "import requests # library to handle requests\n",
    "from bs4 import BeautifulSoup  # library to handle web scraping\n",
    "\n",
    "from geopy.geocoders import Nominatim # convert an address into latitude and longitude values\n",
    "\n",
    "import folium # map rendering library\n",
    "\n",
    "import matplotlib.cm as cm # Matplotlib and associated plotting modules\n",
    "import matplotlib.colors as colors # Matplotlib and associated plotting modules\n",
    "\n",
    "from pandas.io.json import json_normalize # tranform JSON file into a pandas dataframe\n",
    "\n",
    "from collections import Counter # count occurrences \n",
    "\n",
    "from sklearn.cluster import KMeans # import k-means from clustering stage"
   ]
  },
  {
   "cell_type": "code",
   "execution_count": 3,
   "metadata": {},
   "outputs": [],
   "source": [
    "CLIENT_ID = 'P5MNEPLK4OXEDGPBP45SWSLTU1TY4R1DU4ZGMFBBOZCP23MO'# your Foursquare ID\n",
    "CLIENT_SECRET = '3UTVUFOEVCRFZU5RGBMOSR4AFQG4BB4XXVN0P1NQMQNEFK2H'# your Foursquare Secret\n",
    "#ACCESS_TOKEN = \"L5FWYDVVHZXJ4GKNOAD45X22X5MVYZJIFJHE1YJXFGDFB4YN\"# your FourSquare Access Token\n",
    "VERSION = '20180604'"
   ]
  },
  {
   "cell_type": "code",
   "execution_count": 4,
   "metadata": {},
   "outputs": [],
   "source": [
    "url = 'https://api.foursquare.com/v2/venues/categories?&client_id={}&client_secret={}&v={}'.format(\n",
    "    CLIENT_ID, \n",
    "    CLIENT_SECRET, \n",
    "    VERSION)\n",
    "category_results = requests.get(url).json()"
   ]
  },
  {
   "cell_type": "code",
   "execution_count": 5,
   "metadata": {},
   "outputs": [
    {
     "name": "stdout",
     "output_type": "stream",
     "text": [
      "id 24\n",
      "name 20\n",
      "pluralName 20\n",
      "shortName 20\n",
      "icon 98\n",
      "categories 16373\n"
     ]
    }
   ],
   "source": [
    "for key, value in category_results['response']['categories'][0].items():\n",
    "    print(key, len(str(value)))\n"
   ]
  },
  {
   "cell_type": "code",
   "execution_count": 6,
   "metadata": {},
   "outputs": [],
   "source": [
    "category_list = category_results['response']['categories']"
   ]
  },
  {
   "cell_type": "code",
   "execution_count": 7,
   "metadata": {},
   "outputs": [
    {
     "data": {
      "text/plain": [
       "10"
      ]
     },
     "execution_count": 7,
     "metadata": {},
     "output_type": "execute_result"
    }
   ],
   "source": [
    "len(category_list)"
   ]
  },
  {
   "cell_type": "code",
   "execution_count": 8,
   "metadata": {},
   "outputs": [
    {
     "name": "stdout",
     "output_type": "stream",
     "text": [
      "4d4b7104d754a06370d81259 Arts & Entertainment\n",
      "4d4b7105d754a06372d81259 College & University\n",
      "4d4b7105d754a06373d81259 Event\n",
      "4d4b7105d754a06374d81259 Food\n",
      "4d4b7105d754a06376d81259 Nightlife Spot\n",
      "4d4b7105d754a06377d81259 Outdoors & Recreation\n",
      "4d4b7105d754a06375d81259 Professional & Other Places\n",
      "4e67e38e036454776db1fb3a Residence\n",
      "4d4b7105d754a06378d81259 Shop & Service\n",
      "4d4b7105d754a06379d81259 Travel & Transport\n"
     ]
    }
   ],
   "source": [
    "for data in category_list:\n",
    "    print(data['id'], data['name'])"
   ]
  },
  {
   "cell_type": "markdown",
   "metadata": {},
   "source": [
    "### Sub-Categories"
   ]
  },
  {
   "cell_type": "code",
   "execution_count": 11,
   "metadata": {},
   "outputs": [],
   "source": [
    "def flatten_Hierarchy(category_list, checkParentID, category_dict, parent_id = ''):\n",
    "    for data in category_list:\n",
    "        \n",
    "        if checkParentID == True and data['id'] == parent_id:\n",
    "            category_dict[data['id']] = data['name']\n",
    "            flatten_Hierarchy(category_list = data['categories'], checkParentID = False, category_dict = category_dict)\n",
    "        \n",
    "        elif checkParentID == False:\n",
    "            category_dict[data['id']] = data['name']\n",
    "            if len(data['categories']) != 0:\n",
    "                flatten_Hierarchy(category_list = data['categories'], checkParentID = False, category_dict = category_dict)\n",
    "    \n",
    "    return category_dict\n",
    "\n",
    "# this function takes the parent ID and returns 'name' and 'id' of all the sub-categories\n",
    "\n",
    "#4d4b7105d754a06378d81259 Shop & Service\n",
    "\n",
    "category_dict = flatten_Hierarchy(category_list, checkParentID=True, category_dict = {}, parent_id = '4d4b7105d754a06378d81259')"
   ]
  },
  {
   "cell_type": "code",
   "execution_count": 12,
   "metadata": {},
   "outputs": [
    {
     "data": {
      "text/plain": [
       "{'4d4b7105d754a06378d81259': 'Shop & Service',\n",
       " '52f2ab2ebcbc57f1066b8b56': 'ATM',\n",
       " '5267e446e4b0ec79466e48c4': 'Adult Boutique',\n",
       " '4bf58dd8d48988d116951735': 'Antique Shop',\n",
       " '4bf58dd8d48988d127951735': 'Arts & Crafts Store',\n",
       " '52f2ab2ebcbc57f1066b8b43': 'Astrologer',\n",
       " '4eb1c1623b7b52c0e1adc2ec': 'Auto Dealership',\n",
       " '5e8f50bd03c7a9000c1e2fbc': 'New Auto Dealership',\n",
       " '5e8f501a03c7a9000c1e2e88': 'Used Auto Dealership',\n",
       " '52f2ab2ebcbc57f1066b8b44': 'Auto Garage',\n",
       " '56aa371be4b08b9a8d5734d3': 'Auto Workshop',\n",
       " '4bf58dd8d48988d124951735': 'Automotive Shop',\n",
       " '52f2ab2ebcbc57f1066b8b32': 'Baby Store',\n",
       " '4bf58dd8d48988d10a951735': 'Bank',\n",
       " '52e81612bcbc57f1066b7a27': 'Bath House',\n",
       " '56aa371be4b08b9a8d5734cb': 'Batik Shop',\n",
       " '52f2ab2ebcbc57f1066b8b40': 'Betting Shop',\n",
       " '52f2ab2ebcbc57f1066b8b42': 'Big Box Store',\n",
       " '4bf58dd8d48988d115951735': 'Bike Shop',\n",
       " '4bf58dd8d48988d1f1941735': 'Board Shop',\n",
       " '4bf58dd8d48988d114951735': 'Bookstore',\n",
       " '4bf58dd8d48988d11a951735': 'Bridal Shop',\n",
       " '5453de49498eade8af355881': 'Business Service',\n",
       " '4eb1bdf03b7b55596b4a7491': 'Camera Store',\n",
       " '4bf58dd8d48988d117951735': 'Candy Store',\n",
       " '4f04ae1f2fb6e1c99f3db0ba': 'Car Wash',\n",
       " '52f2ab2ebcbc57f1066b8b2a': 'Carpet Store',\n",
       " '52f2ab2ebcbc57f1066b8b2d': 'Check Cashing Service',\n",
       " '5744ccdfe4b0c0459246b4c7': 'Child Care Service',\n",
       " '4f4532974b9074f6e4fb0104': 'Daycare',\n",
       " '52f2ab2ebcbc57f1066b8b31': 'Chocolate Shop',\n",
       " '4bf58dd8d48988d103951735': 'Clothing Store',\n",
       " '4bf58dd8d48988d102951735': 'Accessories Store',\n",
       " '4bf58dd8d48988d104951735': 'Boutique',\n",
       " '4bf58dd8d48988d105951735': 'Kids Store',\n",
       " '4bf58dd8d48988d109951735': 'Lingerie Store',\n",
       " '4bf58dd8d48988d106951735': \"Men's Store\",\n",
       " '4bf58dd8d48988d107951735': 'Shoe Store',\n",
       " '4bf58dd8d48988d108951735': \"Women's Store\",\n",
       " '52f2ab2ebcbc57f1066b8b18': 'Comic Shop',\n",
       " '5454144b498ec1f095bff2f2': 'Construction & Landscaping',\n",
       " '4d954b0ea243a5684a65b473': 'Convenience Store',\n",
       " '4bf58dd8d48988d10c951735': 'Cosmetics Shop',\n",
       " '52f2ab2ebcbc57f1066b8b17': 'Costume Shop',\n",
       " '5032850891d4c4b30a586d62': 'Credit Union',\n",
       " '5744ccdfe4b0c0459246b4be': 'Currency Exchange',\n",
       " '4bf58dd8d48988d1f6941735': 'Department Store',\n",
       " '4bf58dd8d48988d1f4941735': 'Design Studio',\n",
       " '52dea92d3cf9994f4e043dbb': 'Discount Store',\n",
       " '52f2ab2ebcbc57f1066b8b1a': 'Dive Shop',\n",
       " '5745c2e4498e11e7bccabdbd': 'Drugstore',\n",
       " '52f2ab2ebcbc57f1066b8b1d': 'Dry Cleaner',\n",
       " '5032872391d4c4b30a586d64': 'EV Charging Station',\n",
       " '4bf58dd8d48988d122951735': 'Electronics Store',\n",
       " '56aa371be4b08b9a8d573554': 'Entertainment Service',\n",
       " '5454152e498ef71e2b9132c6': 'Event Service',\n",
       " '52f2ab2ebcbc57f1066b8b26': 'Fabric Shop',\n",
       " '56aa371be4b08b9a8d573523': 'Film Studio',\n",
       " '503287a291d4c4b30a586d65': 'Financial or Legal Service',\n",
       " '52f2ab2ebcbc57f1066b8b3a': 'Fireworks Store',\n",
       " '52f2ab2ebcbc57f1066b8b16': 'Fishing Store',\n",
       " '4bf58dd8d48988d1f7941735': 'Flea Market',\n",
       " '56aa371be4b08b9a8d573505': 'Floating Market',\n",
       " '4bf58dd8d48988d11b951735': 'Flower Shop',\n",
       " '4bf58dd8d48988d1f9941735': 'Food & Drink Shop',\n",
       " '5370f356bcbc57f1066c94c2': 'Beer Store',\n",
       " '4bf58dd8d48988d11d951735': 'Butcher',\n",
       " '4bf58dd8d48988d11e951735': 'Cheese Shop',\n",
       " '5e18993feee47d000759b256': 'Coffee Roaster',\n",
       " '58daa1558bbb0b01f18ec1ca': 'Dairy Store',\n",
       " '4bf58dd8d48988d1fa941735': 'Farmers Market',\n",
       " '4bf58dd8d48988d10e951735': 'Fish Market',\n",
       " '56aa371be4b08b9a8d573550': 'Food Service',\n",
       " '4bf58dd8d48988d1f5941735': 'Gourmet Shop',\n",
       " '4bf58dd8d48988d118951735': 'Grocery Store',\n",
       " '50aa9e744b90af0d42d5de0e': 'Health Food Store',\n",
       " '5f2c41945b4c177b9a6dc7d6': 'Imported Food Shop',\n",
       " '58daa1558bbb0b01f18ec1e8': 'Kuruyemişçi',\n",
       " '4bf58dd8d48988d186941735': 'Liquor Store',\n",
       " '52f2ab2ebcbc57f1066b8b45': 'Organic Grocery',\n",
       " '56aa371be4b08b9a8d573564': 'Sausage Shop',\n",
       " '53e0feef498e5aac066fd8a9': 'Street Food Gathering',\n",
       " '52f2ab2ebcbc57f1066b8b46': 'Supermarket',\n",
       " '58daa1558bbb0b01f18ec1e5': 'Turşucu',\n",
       " '4bf58dd8d48988d119951735': 'Wine Shop',\n",
       " '52f2ab2ebcbc57f1066b8b24': 'Frame Store',\n",
       " '52f2ab2ebcbc57f1066b8b1c': 'Fruit & Vegetable Store',\n",
       " '4bf58dd8d48988d1f8941735': 'Furniture / Home Store',\n",
       " '55888a5a498e782e3303b43a': 'Lighting Store',\n",
       " '4bf58dd8d48988d18d941735': 'Gaming Cafe',\n",
       " '4eb1c0253b7b52c0e1adc2e9': 'Garden Center',\n",
       " '4bf58dd8d48988d113951735': 'Gas Station',\n",
       " '4bf58dd8d48988d128951735': 'Gift Shop',\n",
       " '52f2ab2ebcbc57f1066b8b19': 'Gun Shop',\n",
       " '4bf58dd8d48988d112951735': 'Hardware Store',\n",
       " '54541900498ea6ccd0202697': 'Health & Beauty Service',\n",
       " '52f2ab2ebcbc57f1066b8b2c': 'Herbs & Spices Store',\n",
       " '4bf58dd8d48988d1fb941735': 'Hobby Shop',\n",
       " '545419b1498ea6ccd0202f58': 'Home Service',\n",
       " '50aaa5234b90af0d42d5de12': 'Hunting Supply',\n",
       " '52f2ab2ebcbc57f1066b8b36': 'IT Services',\n",
       " '58daa1558bbb0b01f18ec1f1': 'Insurance Office',\n",
       " '4bf58dd8d48988d1f0941735': 'Internet Cafe',\n",
       " '4bf58dd8d48988d111951735': 'Jewelry Store',\n",
       " '58daa1558bbb0b01f18ec1b4': 'Kitchen Supply Store',\n",
       " '52f2ab2ebcbc57f1066b8b25': 'Knitting Store',\n",
       " '52f2ab2ebcbc57f1066b8b33': 'Laundromat',\n",
       " '4bf58dd8d48988d1fc941735': 'Laundry Service',\n",
       " '52f2ab2ebcbc57f1066b8b3f': 'Lawyer',\n",
       " '52f2ab2ebcbc57f1066b8b2b': 'Leather Goods Store',\n",
       " '52f2ab2ebcbc57f1066b8b1e': 'Locksmith',\n",
       " '52f2ab2ebcbc57f1066b8b38': 'Lottery Retailer',\n",
       " '52f2ab2ebcbc57f1066b8b29': 'Luggage Store',\n",
       " '52c71aaf3cf9994f4e043d17': 'Marijuana Dispensary',\n",
       " '50be8ee891d4fa8dcc7199a7': 'Market',\n",
       " '52f2ab2ebcbc57f1066b8b3c': 'Massage Studio',\n",
       " '52f2ab2ebcbc57f1066b8b27': 'Mattress Store',\n",
       " '58daa1558bbb0b01f18ec206': 'Medical Supply Store',\n",
       " '4bf58dd8d48988d1ff941735': 'Miscellaneous Shop',\n",
       " '4f04afc02fb6e1c99f3db0bc': 'Mobile Phone Shop',\n",
       " '56aa371be4b08b9a8d57354a': 'Mobility Store',\n",
       " '5032833091d4c4b30a586d60': 'Motorcycle Shop',\n",
       " '59d79d6b2e268052fa2a3332': 'Motorsports Shop',\n",
       " '4bf58dd8d48988d1fe941735': 'Music Store',\n",
       " '4f04aa0c2fb6e1c99f3db0b8': 'Nail Salon',\n",
       " '5f2c5a295b4c177b9a6ddd0e': 'Newsagent',\n",
       " '4f04ad622fb6e1c99f3db0b9': 'Newsstand',\n",
       " '5ae95d208a6f17002ce792b2': 'Notary',\n",
       " '4d954afda243a5684865b473': 'Optical Shop',\n",
       " '52f2ab2ebcbc57f1066b8b2f': 'Other Repair Shop',\n",
       " '52f2ab2ebcbc57f1066b8b22': 'Outdoor Supply Store',\n",
       " '5744ccdfe4b0c0459246b4df': 'Outlet Mall',\n",
       " '52f2ab2ebcbc57f1066b8b35': 'Outlet Store',\n",
       " '4bf58dd8d48988d121951735': 'Paper / Office Supplies Store',\n",
       " '52f2ab2ebcbc57f1066b8b34': 'Pawn Shop',\n",
       " '52f2ab2ebcbc57f1066b8b23': 'Perfume Shop',\n",
       " '5032897c91d4c4b30a586d69': 'Pet Service',\n",
       " '4bf58dd8d48988d100951735': 'Pet Store',\n",
       " '4bf58dd8d48988d10f951735': 'Pharmacy',\n",
       " '4eb1bdde3b7b55596b4a7490': 'Photography Lab',\n",
       " '554a5e17498efabeda6cc559': 'Photography Studio',\n",
       " '52f2ab2ebcbc57f1066b8b20': 'Piercing Parlor',\n",
       " '52f2ab2ebcbc57f1066b8b3d': 'Pop-Up Shop',\n",
       " '52f2ab2ebcbc57f1066b8b28': 'Print Shop',\n",
       " '5744ccdfe4b0c0459246b4c4': 'Public Bathroom',\n",
       " '5032885091d4c4b30a586d66': 'Real Estate Office',\n",
       " '4bf58dd8d48988d10d951735': 'Record Shop',\n",
       " '52f2ab2ebcbc57f1066b8b37': 'Recording Studio',\n",
       " '4f4531084b9074f6e4fb0101': 'Recycling Facility',\n",
       " '56aa371be4b08b9a8d573552': 'Rental Service',\n",
       " '4bf58dd8d48988d110951735': 'Salon / Barbershop',\n",
       " '58daa1558bbb0b01f18ec1ae': 'Sauna / Steam Room',\n",
       " '52f2ab2ebcbc57f1066b8b1f': 'Shipping Store',\n",
       " '52f2ab2ebcbc57f1066b8b39': 'Shoe Repair',\n",
       " '4bf58dd8d48988d1fd941735': 'Shopping Mall',\n",
       " '5744ccdfe4b0c0459246b4dc': 'Shopping Plaza',\n",
       " '5bae9231bedf3950379f89d2': 'Skate Shop',\n",
       " '56aa371be4b08b9a8d573566': 'Ski Shop',\n",
       " '4bf58dd8d48988d123951735': 'Smoke Shop',\n",
       " '52f2ab2ebcbc57f1066b8b41': 'Smoothie Shop',\n",
       " '52f2ab2ebcbc57f1066b8b1b': 'Souvenir Shop',\n",
       " '4bf58dd8d48988d1ed941735': 'Spa',\n",
       " '4bf58dd8d48988d1f2941735': 'Sporting Goods Shop',\n",
       " '52f2ab2ebcbc57f1066b8b21': 'Stationery Store',\n",
       " '4f04b1572fb6e1c99f3db0bf': 'Storage Facility',\n",
       " '5744ccdfe4b0c0459246b4cd': 'Supplement Shop',\n",
       " '5032781d91d4c4b30a586d5b': 'Tailor Shop',\n",
       " '4d1cf8421a97d635ce361c31': 'Tanning Salon',\n",
       " '4bf58dd8d48988d1de931735': 'Tattoo Parlor',\n",
       " '4bf58dd8d48988d101951735': 'Thrift / Vintage Store',\n",
       " '4bf58dd8d48988d1f3941735': 'Toy / Game Store',\n",
       " '4f04b08c2fb6e1c99f3db0bd': 'Travel Agency',\n",
       " '52f2ab2ebcbc57f1066b8b30': 'Used Bookstore',\n",
       " '56aa371be4b08b9a8d57355c': 'Vape Store',\n",
       " '5f2c1e0db6d05514c70436d4': 'Vehicle Inspection Station',\n",
       " '4bf58dd8d48988d10b951735': 'Video Game Store',\n",
       " '4bf58dd8d48988d126951735': 'Video Store',\n",
       " '52e816a6bcbc57f1066b7a54': 'Warehouse Store',\n",
       " '52f2ab2ebcbc57f1066b8b2e': 'Watch Shop'}"
      ]
     },
     "execution_count": 12,
     "metadata": {},
     "output_type": "execute_result"
    }
   ],
   "source": [
    "category_dict"
   ]
  },
  {
   "cell_type": "code",
   "execution_count": 13,
   "metadata": {},
   "outputs": [],
   "source": [
    "df= pd.read_csv(\"manhattan.csv\")"
   ]
  },
  {
   "cell_type": "code",
   "execution_count": 14,
   "metadata": {},
   "outputs": [
    {
     "data": {
      "text/plain": [
       "'Marble Hill'"
      ]
     },
     "execution_count": 14,
     "metadata": {},
     "output_type": "execute_result"
    }
   ],
   "source": [
    "df.loc[0, 'Neighborhood']"
   ]
  },
  {
   "cell_type": "code",
   "execution_count": null,
   "metadata": {},
   "outputs": [],
   "source": []
  },
  {
   "cell_type": "code",
   "execution_count": null,
   "metadata": {},
   "outputs": [],
   "source": []
  },
  {
   "cell_type": "code",
   "execution_count": null,
   "metadata": {},
   "outputs": [],
   "source": []
  },
  {
   "cell_type": "code",
   "execution_count": null,
   "metadata": {},
   "outputs": [],
   "source": []
  }
 ],
 "metadata": {
  "kernelspec": {
   "display_name": "Python 3",
   "language": "python",
   "name": "python3"
  },
  "language_info": {
   "codemirror_mode": {
    "name": "ipython",
    "version": 3
   },
   "file_extension": ".py",
   "mimetype": "text/x-python",
   "name": "python",
   "nbconvert_exporter": "python",
   "pygments_lexer": "ipython3",
   "version": "3.8.5"
  }
 },
 "nbformat": 4,
 "nbformat_minor": 4
}
