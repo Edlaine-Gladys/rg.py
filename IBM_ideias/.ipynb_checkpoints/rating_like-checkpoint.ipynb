{
 "cells": [
  {
   "cell_type": "markdown",
   "metadata": {},
   "source": [
    "# Rating e likes"
   ]
  },
  {
   "cell_type": "code",
   "execution_count": 1,
   "metadata": {},
   "outputs": [],
   "source": [
    "import numpy as np # library to handle data in a vectorized manner\n",
    "\n",
    "import pandas as pd # library for data analsysis\n",
    "\n",
    "import json # library to handle JSON files\n",
    "\n",
    "import requests # library to handle requests\n",
    "\n",
    "from pandas.io.json import json_normalize # tranform JSON file into a pandas dataframe\n"
   ]
  },
  {
   "cell_type": "code",
   "execution_count": 25,
   "metadata": {},
   "outputs": [],
   "source": [
    "#Edi\n",
    "CLIENT_ID = 'P5MNEPLK4OXEDGPBP45SWSLTU1TY4R1DU4ZGMFBBOZCP23MO'# your Foursquare ID\n",
    "CLIENT_SECRET = '3UTVUFOEVCRFZU5RGBMOSR4AFQG4BB4XXVN0P1NQMQNEFK2H'# your Foursquare Secret\n",
    "ACCESS_TOKEN = \"L5FWYDVVHZXJ4GKNOAD45X22X5MVYZJIFJHE1YJXFGDFB4YN\"# your FourSquare Access Token\n",
    "VERSION = '20180604'"
   ]
  },
  {
   "cell_type": "code",
   "execution_count": 26,
   "metadata": {},
   "outputs": [],
   "source": [
    "lista_id=pd.read_csv(\"df_drybar.csv\")\n",
    "lista=lista_id[\"id\"]"
   ]
  },
  {
   "cell_type": "code",
   "execution_count": 476,
   "metadata": {},
   "outputs": [
    {
     "data": {
      "text/plain": [
       "'558e9564498e4c9557996706'"
      ]
     },
     "execution_count": 476,
     "metadata": {},
     "output_type": "execute_result"
    }
   ],
   "source": [
    "results = lista[7]\n",
    "results"
   ]
  },
  {
   "cell_type": "code",
   "execution_count": 477,
   "metadata": {},
   "outputs": [],
   "source": [
    "url= 'https://api.foursquare.com/v2/venues/{}?client_id={}&client_secret={}&oauth_token={}&v={}'.format(\n",
    "    results,CLIENT_ID,\n",
    "    CLIENT_SECRET,\n",
    "    ACCESS_TOKEN, \n",
    "    VERSION)\n",
    "\n",
    "resultado= requests.get(url).json()\n",
    "\n",
    "    #print(resultado_rating)"
   ]
  },
  {
   "cell_type": "code",
   "execution_count": 478,
   "metadata": {},
   "outputs": [
    {
     "data": {
      "text/plain": [
       "dict_keys(['id', 'name', 'contact', 'location', 'canonicalUrl', 'categories', 'verified', 'stats', 'likes', 'like', 'dislike', 'ok', 'rating', 'ratingColor', 'ratingSignals', 'allowMenuUrlEdit', 'beenHere', 'specials', 'photos', 'reasons', 'hereNow', 'createdAt', 'tips', 'shortUrl', 'timeZone', 'listed', 'popular', 'seasonalHours', 'pageUpdates', 'inbox', 'attributes', 'bestPhoto'])"
      ]
     },
     "execution_count": 478,
     "metadata": {},
     "output_type": "execute_result"
    }
   ],
   "source": [
    "resultado['response']['venue'].keys()"
   ]
  },
  {
   "cell_type": "code",
   "execution_count": 479,
   "metadata": {},
   "outputs": [
    {
     "data": {
      "text/plain": [
       "31"
      ]
     },
     "execution_count": 479,
     "metadata": {},
     "output_type": "execute_result"
    }
   ],
   "source": [
    "resultado['response']['venue'][\"likes\"][\"count\"]"
   ]
  },
  {
   "cell_type": "code",
   "execution_count": 480,
   "metadata": {},
   "outputs": [
    {
     "data": {
      "text/plain": [
       "'558e9564498e4c9557996706'"
      ]
     },
     "execution_count": 480,
     "metadata": {},
     "output_type": "execute_result"
    }
   ],
   "source": [
    "resultado['response']['venue'][\"id\"]"
   ]
  },
  {
   "cell_type": "code",
   "execution_count": 481,
   "metadata": {},
   "outputs": [
    {
     "data": {
      "text/plain": [
       "'Drybar Bryant Park'"
      ]
     },
     "execution_count": 481,
     "metadata": {},
     "output_type": "execute_result"
    }
   ],
   "source": [
    "resultado['response']['venue'][\"name\"]"
   ]
  },
  {
   "cell_type": "code",
   "execution_count": 482,
   "metadata": {},
   "outputs": [
    {
     "data": {
      "text/plain": [
       "6.9"
      ]
     },
     "execution_count": 482,
     "metadata": {},
     "output_type": "execute_result"
    }
   ],
   "source": [
    "resultado['response']['venue']['rating']"
   ]
  },
  {
   "cell_type": "code",
   "execution_count": 509,
   "metadata": {},
   "outputs": [
    {
     "data": {
      "text/plain": [
       "'Great blow out but hair turned frizzy in an hour'"
      ]
     },
     "execution_count": 509,
     "metadata": {},
     "output_type": "execute_result"
    }
   ],
   "source": [
    "resultado['response']['venue']['tips']['groups'][1]['items'][0][\"text\"]  "
   ]
  },
  {
   "cell_type": "code",
   "execution_count": 510,
   "metadata": {},
   "outputs": [
    {
     "name": "stdout",
     "output_type": "stream",
     "text": [
      "['558e9564498e4c9557996706']\n",
      "['Drybar Bryant Park']\n",
      "[6.9]\n",
      "[31]\n",
      "['Great blow out but hair turned frizzy in an hour']\n"
     ]
    }
   ],
   "source": [
    "# comecei usando o numero 3 \n",
    "\n",
    "id=[]\n",
    "name=[]\n",
    "rating=[]\n",
    "likes=[]\n",
    "text=[]\n",
    "\n",
    "id.append(resultado['response']['venue'][\"id\"])\n",
    "name.append(resultado['response']['venue'][\"name\"])\n",
    "rating.append(resultado['response']['venue']['rating'])\n",
    "likes.append(resultado['response']['venue'][\"likes\"][\"count\"])\n",
    "text.append(resultado['response']['venue']['tips']['groups'][1]['items'][0][\"text\"])\n",
    "print(id)\n",
    "print(name)\n",
    "print(rating)\n",
    "print(likes)\n",
    "print(text)"
   ]
  },
  {
   "cell_type": "code",
   "execution_count": null,
   "metadata": {},
   "outputs": [],
   "source": [
    "# Criando o diconário "
   ]
  },
  {
   "cell_type": "code",
   "execution_count": 525,
   "metadata": {},
   "outputs": [],
   "source": [
    "data_dic={\"id\":id,\"name\":name,\"rating\":rating,\"likes\":likes,\"text\":text}"
   ]
  },
  {
   "cell_type": "code",
   "execution_count": 526,
   "metadata": {},
   "outputs": [
    {
     "data": {
      "text/html": [
       "<div>\n",
       "<style scoped>\n",
       "    .dataframe tbody tr th:only-of-type {\n",
       "        vertical-align: middle;\n",
       "    }\n",
       "\n",
       "    .dataframe tbody tr th {\n",
       "        vertical-align: top;\n",
       "    }\n",
       "\n",
       "    .dataframe thead th {\n",
       "        text-align: right;\n",
       "    }\n",
       "</style>\n",
       "<table border=\"1\" class=\"dataframe\">\n",
       "  <thead>\n",
       "    <tr style=\"text-align: right;\">\n",
       "      <th></th>\n",
       "      <th>id</th>\n",
       "      <th>name</th>\n",
       "      <th>rating</th>\n",
       "      <th>likes</th>\n",
       "      <th>text</th>\n",
       "    </tr>\n",
       "  </thead>\n",
       "  <tbody>\n",
       "    <tr>\n",
       "      <th>0</th>\n",
       "      <td>558e9564498e4c9557996706</td>\n",
       "      <td>Drybar Bryant Park</td>\n",
       "      <td>6.9</td>\n",
       "      <td>31</td>\n",
       "      <td>Great blow out but hair turned frizzy in an hour</td>\n",
       "    </tr>\n",
       "  </tbody>\n",
       "</table>\n",
       "</div>"
      ],
      "text/plain": [
       "                         id                name  rating  likes  \\\n",
       "0  558e9564498e4c9557996706  Drybar Bryant Park     6.9     31   \n",
       "\n",
       "                                               text  \n",
       "0  Great blow out but hair turned frizzy in an hour  "
      ]
     },
     "execution_count": 526,
     "metadata": {},
     "output_type": "execute_result"
    }
   ],
   "source": [
    "data_rating= pd.DataFrame(data_dic)\n",
    "data_rating"
   ]
  },
  {
   "cell_type": "markdown",
   "metadata": {},
   "source": [
    "###  Fazer um for para facilitar o processo "
   ]
  },
  {
   "cell_type": "code",
   "execution_count": 517,
   "metadata": {},
   "outputs": [],
   "source": [
    "venue_id = lista\n",
    "\n",
    "like=[]\n",
    "\n",
    "\n",
    "for results in venue_id:\n",
    "\n",
    "    url= 'https://api.foursquare.com/v2/venues/{}?client_id={}&client_secret={}&oauth_token={}&v={}'.format(\n",
    "    results, \n",
    "    CLIENT_ID, \n",
    "    CLIENT_SECRET,\n",
    "    ACCESS_TOKEN, \n",
    "    VERSION)\n",
    "   \n",
    "    resultado_for= requests.get(url).json()\n",
    "    \n",
    "    like.append(resultado['response']['venue'][\"likes\"][\"count\"])   \n",
    "    "
   ]
  },
  {
   "cell_type": "code",
   "execution_count": 520,
   "metadata": {},
   "outputs": [],
   "source": [
    "data_dic={\"id\":id,\"name\":name,\"rating\":rating,\"likes\":like,\"text\":text}"
   ]
  },
  {
   "cell_type": "code",
   "execution_count": 529,
   "metadata": {},
   "outputs": [
    {
     "data": {
      "text/html": [
       "<div>\n",
       "<style scoped>\n",
       "    .dataframe tbody tr th:only-of-type {\n",
       "        vertical-align: middle;\n",
       "    }\n",
       "\n",
       "    .dataframe tbody tr th {\n",
       "        vertical-align: top;\n",
       "    }\n",
       "\n",
       "    .dataframe thead th {\n",
       "        text-align: right;\n",
       "    }\n",
       "</style>\n",
       "<table border=\"1\" class=\"dataframe\">\n",
       "  <thead>\n",
       "    <tr style=\"text-align: right;\">\n",
       "      <th></th>\n",
       "      <th>id</th>\n",
       "      <th>name</th>\n",
       "      <th>rating</th>\n",
       "      <th>likes</th>\n",
       "      <th>text</th>\n",
       "    </tr>\n",
       "  </thead>\n",
       "  <tbody>\n",
       "    <tr>\n",
       "      <th>0</th>\n",
       "      <td>558e9564498e4c9557996706</td>\n",
       "      <td>Drybar Bryant Park</td>\n",
       "      <td>6.9</td>\n",
       "      <td>31</td>\n",
       "      <td>Great blow out but hair turned frizzy in an hour</td>\n",
       "    </tr>\n",
       "  </tbody>\n",
       "</table>\n",
       "</div>"
      ],
      "text/plain": [
       "                         id                name  rating  likes  \\\n",
       "0  558e9564498e4c9557996706  Drybar Bryant Park     6.9     31   \n",
       "\n",
       "                                               text  \n",
       "0  Great blow out but hair turned frizzy in an hour  "
      ]
     },
     "execution_count": 529,
     "metadata": {},
     "output_type": "execute_result"
    }
   ],
   "source": [
    "data_rating= pd.DataFrame(data_dic)\n",
    "data_rating"
   ]
  },
  {
   "cell_type": "code",
   "execution_count": null,
   "metadata": {},
   "outputs": [],
   "source": [
    "# O arquivo com os dados estão em csv"
   ]
  },
  {
   "cell_type": "code",
   "execution_count": 535,
   "metadata": {},
   "outputs": [
    {
     "data": {
      "text/html": [
       "<div>\n",
       "<style scoped>\n",
       "    .dataframe tbody tr th:only-of-type {\n",
       "        vertical-align: middle;\n",
       "    }\n",
       "\n",
       "    .dataframe tbody tr th {\n",
       "        vertical-align: top;\n",
       "    }\n",
       "\n",
       "    .dataframe thead th {\n",
       "        text-align: right;\n",
       "    }\n",
       "</style>\n",
       "<table border=\"1\" class=\"dataframe\">\n",
       "  <thead>\n",
       "    <tr style=\"text-align: right;\">\n",
       "      <th></th>\n",
       "      <th>id</th>\n",
       "      <th>name</th>\n",
       "      <th>rating</th>\n",
       "      <th>like</th>\n",
       "      <th>text</th>\n",
       "    </tr>\n",
       "  </thead>\n",
       "  <tbody>\n",
       "    <tr>\n",
       "      <th>0</th>\n",
       "      <td>5345ddce498e374167fa7173</td>\n",
       "      <td>DryBar</td>\n",
       "      <td>8.4</td>\n",
       "      <td>62</td>\n",
       "      <td>My favorite Dry Bar! The stylists know how to ...</td>\n",
       "    </tr>\n",
       "    <tr>\n",
       "      <th>1</th>\n",
       "      <td>4f2064f8e4b0a00cf1d3c3c1</td>\n",
       "      <td>DryBar</td>\n",
       "      <td>8.0</td>\n",
       "      <td>62</td>\n",
       "      <td>The only place where mixing a Manhattan and a ...</td>\n",
       "    </tr>\n",
       "    <tr>\n",
       "      <th>2</th>\n",
       "      <td>4e6f679dae604d1b459a5154</td>\n",
       "      <td>DryBar</td>\n",
       "      <td>8.5</td>\n",
       "      <td>142</td>\n",
       "      <td>Uncharged? No worries! You can charge your iPh...</td>\n",
       "    </tr>\n",
       "    <tr>\n",
       "      <th>3</th>\n",
       "      <td>50df63efe4b0454c5e8f655d</td>\n",
       "      <td>Drybar</td>\n",
       "      <td>8.9</td>\n",
       "      <td>72</td>\n",
       "      <td>If you want big curls &amp; big volume (The Southe...</td>\n",
       "    </tr>\n",
       "    <tr>\n",
       "      <th>4</th>\n",
       "      <td>5085a8b5e4b0ca321fdcea32</td>\n",
       "      <td>Dry Bar</td>\n",
       "      <td>9.2</td>\n",
       "      <td>89</td>\n",
       "      <td>Free champagne and chick flicks. Oh and a blow...</td>\n",
       "    </tr>\n",
       "  </tbody>\n",
       "</table>\n",
       "</div>"
      ],
      "text/plain": [
       "                         id    name   rating  like   \\\n",
       "0  5345ddce498e374167fa7173   DryBar     8.4     62   \n",
       "1  4f2064f8e4b0a00cf1d3c3c1   DryBar     8.0     62   \n",
       "2  4e6f679dae604d1b459a5154   DryBar     8.5    142   \n",
       "3  50df63efe4b0454c5e8f655d   Drybar     8.9     72   \n",
       "4  5085a8b5e4b0ca321fdcea32  Dry Bar     9.2     89   \n",
       "\n",
       "                                                text  \n",
       "0  My favorite Dry Bar! The stylists know how to ...  \n",
       "1  The only place where mixing a Manhattan and a ...  \n",
       "2  Uncharged? No worries! You can charge your iPh...  \n",
       "3  If you want big curls & big volume (The Southe...  \n",
       "4  Free champagne and chick flicks. Oh and a blow...  "
      ]
     },
     "execution_count": 535,
     "metadata": {},
     "output_type": "execute_result"
    }
   ],
   "source": [
    "df_rating=pd.read_csv(\"teste.csv\",encoding='iso-8859-1',delimiter =';')\n",
    "df_rating.head()"
   ]
  },
  {
   "cell_type": "code",
   "execution_count": null,
   "metadata": {},
   "outputs": [],
   "source": []
  },
  {
   "cell_type": "code",
   "execution_count": null,
   "metadata": {},
   "outputs": [],
   "source": []
  },
  {
   "cell_type": "code",
   "execution_count": null,
   "metadata": {},
   "outputs": [],
   "source": []
  },
  {
   "cell_type": "code",
   "execution_count": null,
   "metadata": {},
   "outputs": [],
   "source": []
  },
  {
   "cell_type": "code",
   "execution_count": null,
   "metadata": {},
   "outputs": [],
   "source": []
  },
  {
   "cell_type": "code",
   "execution_count": null,
   "metadata": {},
   "outputs": [],
   "source": []
  }
 ],
 "metadata": {
  "kernelspec": {
   "display_name": "Python 3",
   "language": "python",
   "name": "python3"
  },
  "language_info": {
   "codemirror_mode": {
    "name": "ipython",
    "version": 3
   },
   "file_extension": ".py",
   "mimetype": "text/x-python",
   "name": "python",
   "nbconvert_exporter": "python",
   "pygments_lexer": "ipython3",
   "version": "3.8.5"
  }
 },
 "nbformat": 4,
 "nbformat_minor": 4
}
